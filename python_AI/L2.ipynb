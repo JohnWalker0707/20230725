{
 "cells": [
  {
   "cell_type": "code",
   "execution_count": 24,
   "metadata": {},
   "outputs": [
    {
     "name": "stdout",
     "output_type": "stream",
     "text": [
      "12\n",
      "133\n"
     ]
    }
   ],
   "source": [
    "class a:\n",
    "    def __init__(self,d):\n",
    "        self.v=d\n",
    "    def r(self,d):\n",
    "        print(d)\n",
    "\n",
    "\n",
    "c=a(12)\n",
    "print(c.v)\n",
    "c.r(133)"
   ]
  }
 ],
 "metadata": {
  "kernelspec": {
   "display_name": "Python 3",
   "language": "python",
   "name": "python3"
  },
  "language_info": {
   "codemirror_mode": {
    "name": "ipython",
    "version": 3
   },
   "file_extension": ".py",
   "mimetype": "text/x-python",
   "name": "python",
   "nbconvert_exporter": "python",
   "pygments_lexer": "ipython3",
   "version": "3.10.12"
  },
  "orig_nbformat": 4
 },
 "nbformat": 4,
 "nbformat_minor": 2
}
